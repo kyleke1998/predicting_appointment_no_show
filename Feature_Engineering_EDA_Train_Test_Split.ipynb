{
 "cells": [
  {
   "cell_type": "code",
   "execution_count": 1,
   "id": "f70ec259",
   "metadata": {},
   "outputs": [],
   "source": [
    "import pandas as pd\n",
    "import numpy as np\n",
    "import matplotlib.pyplot as plt\n",
    "from sklearn.model_selection import train_test_split\n",
    "from imblearn.over_sampling import RandomOverSampler"
   ]
  },
  {
   "cell_type": "code",
   "execution_count": 2,
   "id": "62b7e02f",
   "metadata": {},
   "outputs": [],
   "source": [
    "df= pd.read_csv(\"cleaned_data.csv\")"
   ]
  },
  {
   "cell_type": "code",
   "execution_count": 3,
   "id": "95b2166f",
   "metadata": {},
   "outputs": [
    {
     "data": {
      "text/html": [
       "<div>\n",
       "<style scoped>\n",
       "    .dataframe tbody tr th:only-of-type {\n",
       "        vertical-align: middle;\n",
       "    }\n",
       "\n",
       "    .dataframe tbody tr th {\n",
       "        vertical-align: top;\n",
       "    }\n",
       "\n",
       "    .dataframe thead th {\n",
       "        text-align: right;\n",
       "    }\n",
       "</style>\n",
       "<table border=\"1\" class=\"dataframe\">\n",
       "  <thead>\n",
       "    <tr style=\"text-align: right;\">\n",
       "      <th></th>\n",
       "      <th>PatientID</th>\n",
       "      <th>AppointmentID</th>\n",
       "      <th>Gender</th>\n",
       "      <th>ScheduledDay</th>\n",
       "      <th>AppointmentDay</th>\n",
       "      <th>Age</th>\n",
       "      <th>LocationID</th>\n",
       "      <th>MedicaidIND</th>\n",
       "      <th>Hypertension</th>\n",
       "      <th>Diabetes</th>\n",
       "      <th>Alcoholism</th>\n",
       "      <th>Disability</th>\n",
       "      <th>SMS_received</th>\n",
       "      <th>No-show</th>\n",
       "    </tr>\n",
       "  </thead>\n",
       "  <tbody>\n",
       "    <tr>\n",
       "      <th>0</th>\n",
       "      <td>13721</td>\n",
       "      <td>5642903</td>\n",
       "      <td>F</td>\n",
       "      <td>2016-04-29 18:38:08</td>\n",
       "      <td>2016-04-29 23:59:59</td>\n",
       "      <td>62</td>\n",
       "      <td>40</td>\n",
       "      <td>0</td>\n",
       "      <td>1</td>\n",
       "      <td>0</td>\n",
       "      <td>0</td>\n",
       "      <td>0</td>\n",
       "      <td>0</td>\n",
       "      <td>0</td>\n",
       "    </tr>\n",
       "    <tr>\n",
       "      <th>1</th>\n",
       "      <td>31661</td>\n",
       "      <td>5642503</td>\n",
       "      <td>M</td>\n",
       "      <td>2016-04-29 16:08:27</td>\n",
       "      <td>2016-04-29 23:59:59</td>\n",
       "      <td>56</td>\n",
       "      <td>40</td>\n",
       "      <td>0</td>\n",
       "      <td>0</td>\n",
       "      <td>0</td>\n",
       "      <td>0</td>\n",
       "      <td>0</td>\n",
       "      <td>0</td>\n",
       "      <td>0</td>\n",
       "    </tr>\n",
       "    <tr>\n",
       "      <th>2</th>\n",
       "      <td>22024</td>\n",
       "      <td>5642549</td>\n",
       "      <td>F</td>\n",
       "      <td>2016-04-29 16:19:04</td>\n",
       "      <td>2016-04-29 23:59:59</td>\n",
       "      <td>62</td>\n",
       "      <td>47</td>\n",
       "      <td>0</td>\n",
       "      <td>0</td>\n",
       "      <td>0</td>\n",
       "      <td>0</td>\n",
       "      <td>0</td>\n",
       "      <td>0</td>\n",
       "      <td>0</td>\n",
       "    </tr>\n",
       "    <tr>\n",
       "      <th>3</th>\n",
       "      <td>52847</td>\n",
       "      <td>5642828</td>\n",
       "      <td>F</td>\n",
       "      <td>2016-04-29 17:29:31</td>\n",
       "      <td>2016-04-29 23:59:59</td>\n",
       "      <td>8</td>\n",
       "      <td>55</td>\n",
       "      <td>0</td>\n",
       "      <td>0</td>\n",
       "      <td>0</td>\n",
       "      <td>0</td>\n",
       "      <td>0</td>\n",
       "      <td>0</td>\n",
       "      <td>0</td>\n",
       "    </tr>\n",
       "    <tr>\n",
       "      <th>4</th>\n",
       "      <td>54030</td>\n",
       "      <td>5642494</td>\n",
       "      <td>F</td>\n",
       "      <td>2016-04-29 16:07:23</td>\n",
       "      <td>2016-04-29 23:59:59</td>\n",
       "      <td>56</td>\n",
       "      <td>40</td>\n",
       "      <td>0</td>\n",
       "      <td>1</td>\n",
       "      <td>1</td>\n",
       "      <td>0</td>\n",
       "      <td>0</td>\n",
       "      <td>0</td>\n",
       "      <td>0</td>\n",
       "    </tr>\n",
       "  </tbody>\n",
       "</table>\n",
       "</div>"
      ],
      "text/plain": [
       "   PatientID  AppointmentID Gender         ScheduledDay       AppointmentDay  \\\n",
       "0      13721        5642903      F  2016-04-29 18:38:08  2016-04-29 23:59:59   \n",
       "1      31661        5642503      M  2016-04-29 16:08:27  2016-04-29 23:59:59   \n",
       "2      22024        5642549      F  2016-04-29 16:19:04  2016-04-29 23:59:59   \n",
       "3      52847        5642828      F  2016-04-29 17:29:31  2016-04-29 23:59:59   \n",
       "4      54030        5642494      F  2016-04-29 16:07:23  2016-04-29 23:59:59   \n",
       "\n",
       "   Age  LocationID  MedicaidIND  Hypertension  Diabetes  Alcoholism  \\\n",
       "0   62          40            0             1         0           0   \n",
       "1   56          40            0             0         0           0   \n",
       "2   62          47            0             0         0           0   \n",
       "3    8          55            0             0         0           0   \n",
       "4   56          40            0             1         1           0   \n",
       "\n",
       "   Disability  SMS_received  No-show  \n",
       "0           0             0        0  \n",
       "1           0             0        0  \n",
       "2           0             0        0  \n",
       "3           0             0        0  \n",
       "4           0             0        0  "
      ]
     },
     "execution_count": 3,
     "metadata": {},
     "output_type": "execute_result"
    }
   ],
   "source": [
    "df.head()"
   ]
  },
  {
   "cell_type": "code",
   "execution_count": 4,
   "id": "096b8d75",
   "metadata": {},
   "outputs": [],
   "source": [
    "df[\"ScheduledDay\"] = pd.to_datetime(df[\"ScheduledDay\"],  \n",
    " errors = \"coerce\")\n",
    "df[\"AppointmentDay\"] = pd.to_datetime(df[\"AppointmentDay\"], \n",
    " errors = \"coerce\")"
   ]
  },
  {
   "cell_type": "markdown",
   "id": "630c066a",
   "metadata": {},
   "source": [
    "### For feature engineering. I will focus on exploiting the two datetime variables: scheduledDay and AppointmentDay. We will extract year, month, week, day of week, hour of day all as their own variables. In addition, we will calculate the lag between scheduled day and appointment day as a new variable"
   ]
  },
  {
   "cell_type": "code",
   "execution_count": 5,
   "id": "be7e3ef5",
   "metadata": {},
   "outputs": [
    {
     "name": "stderr",
     "output_type": "stream",
     "text": [
      "C:\\Users\\kylek\\anaconda3\\lib\\site-packages\\ipykernel_launcher.py:3: FutureWarning: Series.dt.weekofyear and Series.dt.week have been deprecated.  Please use Series.dt.isocalendar().week instead.\n",
      "  This is separate from the ipykernel package so we can avoid doing imports until\n",
      "C:\\Users\\kylek\\anaconda3\\lib\\site-packages\\ipykernel_launcher.py:9: FutureWarning: Series.dt.weekofyear and Series.dt.week have been deprecated.  Please use Series.dt.isocalendar().week instead.\n",
      "  if __name__ == '__main__':\n"
     ]
    }
   ],
   "source": [
    "df[\"ScheduledDay_year\"] = df[\"ScheduledDay\"].dt.year\n",
    "df[\"ScheduledDay_month\"] = df[\"ScheduledDay\"].dt.month\n",
    "df[\"ScheduledDay_week\"] = df[\"ScheduledDay\"].dt.week\n",
    "df[\"ScheduledDay_day\"] = df[\"ScheduledDay\"].dt.day\n",
    "df[\"ScheduledDay_hour\"] = df[\"ScheduledDay\"].dt.hour\n",
    "df[\"ScheduledDay_dayofweek\"] = df[\"ScheduledDay\"].dt.dayofweek\n",
    "df[\"AppointmentDay_year\"] = df[\"AppointmentDay\"].dt.year\n",
    "df[\"AppointmentDay_month\"] = df[\"AppointmentDay\"].dt.month\n",
    "df[\"AppointmentDay_week\"] = df[\"AppointmentDay\"].dt.week\n",
    "df[\"AppointmentDay_day\"] = df[\"AppointmentDay\"].dt.day\n",
    "df[\"AppointmentDay_hour\"] = df[\"AppointmentDay\"].dt.hour\n",
    "df[\"AppointmentDay_dayofweek\"] = df[\"AppointmentDay\"].dt.dayofweek\n",
    "\n",
    "df[\"days_diff\"] = (df[\"AppointmentDay\"]-df[\"ScheduledDay\"]).dt.total_seconds()/(60*60*24)"
   ]
  },
  {
   "cell_type": "markdown",
   "id": "e473e8cf",
   "metadata": {},
   "source": [
    "### We will also generate a variable that checks if a patient has previous records of No-show. And a another variable counts the total number of No-show a patient has up to the point they scheduled a new appointment. (These two varaibles only look to the past and do not cheat by looking into the future)"
   ]
  },
  {
   "cell_type": "code",
   "execution_count": 175,
   "id": "bc43d64d",
   "metadata": {},
   "outputs": [],
   "source": [
    "#And sort the dataframe by AppointmentDay in asecending order\n",
    "df = df.sort_values(by='AppointmentDay',ascending=True)"
   ]
  },
  {
   "cell_type": "code",
   "execution_count": 176,
   "id": "7dd90703",
   "metadata": {},
   "outputs": [],
   "source": [
    "#loop to generate the prior no show varaible. \n",
    "\n",
    "previous_no_show = []\n",
    "for idx,row in df.iterrows():\n",
    "    temp = df.iloc[0:idx,]\n",
    "    if temp.loc[temp['PatientID']==row['PatientID'],'No-show'].sum() > 0:\n",
    "        previous_no_show.append(1)\n",
    "    elif temp.loc[temp['PatientID']==row['PatientID'],'No-show'].sum() == 0:\n",
    "        previous_no_show.append(0)\n",
    "\n",
    "previous_total_no_show = []\n",
    "for idx,row in df.iterrows():\n",
    "    temp = df.iloc[0:idx,]\n",
    "    previous_total_no_show.append(temp.loc[temp['PatientID']==row['PatientID'],'No-show'].sum())\n"
   ]
  },
  {
   "cell_type": "code",
   "execution_count": 177,
   "id": "c784833f",
   "metadata": {},
   "outputs": [],
   "source": [
    "previous__no_show = pd.Series(previous_no_show)\n",
    "df['prior_no_show'] = previous_no_show \n",
    "previous_total_no_show = pd.Series(previous_total_no_show)\n",
    "df['previous_total_no_show'] = previous_total_no_show "
   ]
  },
  {
   "cell_type": "markdown",
   "id": "13dfb02b",
   "metadata": {},
   "source": [
    "### Let's see if any of these newly generated features are predictive of no-show"
   ]
  },
  {
   "cell_type": "code",
   "execution_count": 178,
   "id": "884134c7",
   "metadata": {},
   "outputs": [
    {
     "data": {
      "image/png": "[encoded data removed]",
      "text/plain": [
       "<Figure size 432x288 with 1 Axes>"
      ]
     },
     "metadata": {
      "needs_background": "light"
     },
     "output_type": "display_data"
    }
   ],
   "source": [
    "plt.hist(df.loc[df[\"No-show\"] == 1,\"days_diff\"], \n",
    "label = \"No Show\",bins = range(0,40,1),density=True, stacked=True)\n",
    "plt.hist(df.loc[df[\"No-show\"] == 0,\"days_diff\"], \n",
    "label = \"Show\",bins = range(0,40,1),density=True, stacked=True)\n",
    "plt.legend()\n",
    "plt.xlabel(\"Days until appointment\")\n",
    "plt.ylabel(\"Density\")\n",
    "plt.title(\"More No-shows if appointment not booked on the same day\")\n",
    "plt.xlim(0,40)\n",
    "plt.show()"
   ]
  },
  {
   "cell_type": "code",
   "execution_count": 6,
   "id": "09b37d47",
   "metadata": {},
   "outputs": [],
   "source": [
    "bins = [0,1,2,3,4,5,6,7,8,10,15,25,40]\n",
    "days_diff_no_show = df.groupby(pd.cut(df.days_diff, bins))['No-show'].sum() / df.groupby(pd.cut(df.days_diff, bins))['No-show'].count()"
   ]
  },
  {
   "cell_type": "code",
   "execution_count": 7,
   "id": "93c8ec1a",
   "metadata": {},
   "outputs": [
    {
     "data": {
      "text/plain": [
       "days_diff\n",
       "(0, 1]      0.046460\n",
       "(1, 2]      0.213297\n",
       "(2, 3]      0.237932\n",
       "(3, 4]      0.235897\n",
       "(4, 5]      0.232809\n",
       "(5, 6]      0.265769\n",
       "(6, 7]      0.247766\n",
       "(7, 8]      0.266925\n",
       "(8, 10]     0.282227\n",
       "(10, 15]    0.316037\n",
       "(15, 25]    0.328335\n",
       "(25, 40]    0.330373\n",
       "Name: No-show, dtype: float64"
      ]
     },
     "execution_count": 7,
     "metadata": {},
     "output_type": "execute_result"
    }
   ],
   "source": [
    "days_diff_no_show "
   ]
  },
  {
   "cell_type": "code",
   "execution_count": 15,
   "id": "a895a0c9",
   "metadata": {},
   "outputs": [
    {
     "data": {
      "image/png": "[encoded data removed]",
      "text/plain": [
       "<Figure size 432x288 with 1 Axes>"
      ]
     },
     "metadata": {
      "needs_background": "light"
     },
     "output_type": "display_data"
    }
   ],
   "source": [
    "bins = [0,1,5,10,15,25,40]\n",
    "days_diff_no_show = df.groupby(pd.cut(df.days_diff, bins))['No-show'].sum() / df.groupby(pd.cut(df.days_diff, bins))['No-show'].count()\n",
    "\n",
    "days_diff_no_show.plot.line()\n",
    "plt.xlabel(\"Binned days until appointment\")\n",
    "plt.ylabel(\"No-show rate\")\n",
    "plt.title(\"No-show rate increases with difference in days\")\n",
    "plt.show()"
   ]
  },
  {
   "cell_type": "code",
   "execution_count": 11,
   "id": "e1a508e8",
   "metadata": {},
   "outputs": [
    {
     "data": {
      "text/plain": [
       "Text(0.5, 1.0, 'No-show percent by prior no-show status')"
      ]
     },
     "execution_count": 11,
     "metadata": {},
     "output_type": "execute_result"
    },
    {
     "data": {
      "image/png": "[encoded data removed]",
      "text/plain": [
       "<Figure size 432x288 with 1 Axes>"
      ]
     },
     "metadata": {
      "needs_background": "light"
     },
     "output_type": "display_data"
    }
   ],
   "source": [
    "prior_no_show = df.groupby('prior_no_show')['No-show'].sum()/df.groupby('prior_no_show')['No-show'].count()\n",
    "prior_no_show.to_csv('no_show_rate_based_on_prior_no_show.csv')\n",
    "prior_no_show.plot.bar(x='Prior_no_show', y='Percent', color=[\"green\",\"yellow\"],rot=0)\n",
    "plt.title(\"No-show percent by prior no-show status\")"
   ]
  },
  {
   "cell_type": "code",
   "execution_count": 88,
   "id": "dc501422",
   "metadata": {},
   "outputs": [
    {
     "data": {
      "text/plain": [
       "AppointmentDay_dayofweek\n",
       "0    0.206412\n",
       "1    0.200750\n",
       "2    0.196871\n",
       "3    0.193704\n",
       "4    0.212431\n",
       "5    0.230769\n",
       "Name: No-show, dtype: float64"
      ]
     },
     "execution_count": 88,
     "metadata": {},
     "output_type": "execute_result"
    }
   ],
   "source": [
    "df.groupby('AppointmentDay_dayofweek')['No-show'].sum()/df.groupby('AppointmentDay_dayofweek')['No-show'].count()"
   ]
  },
  {
   "cell_type": "code",
   "execution_count": 13,
   "id": "d969afa2",
   "metadata": {},
   "outputs": [
    {
     "data": {
      "text/plain": [
       "AppointmentDay_month\n",
       "4    0.196157\n",
       "5    0.207785\n",
       "6    0.184731\n",
       "Name: No-show, dtype: float64"
      ]
     },
     "execution_count": 13,
     "metadata": {},
     "output_type": "execute_result"
    }
   ],
   "source": [
    "df.groupby('AppointmentDay_month')[\"No-show\"].sum()/df.groupby(\"AppointmentDay_month\")[\"No-show\"].count()"
   ]
  },
  {
   "cell_type": "code",
   "execution_count": 14,
   "id": "76f8d58b",
   "metadata": {},
   "outputs": [
    {
     "data": {
      "text/plain": [
       "ScheduledDay_hour\n",
       "6     0.192259\n",
       "7     0.151417\n",
       "8     0.182827\n",
       "9     0.196920\n",
       "10    0.220722\n",
       "11    0.227752\n",
       "12    0.203252\n",
       "13    0.209470\n",
       "14    0.226844\n",
       "15    0.231810\n",
       "16    0.237897\n",
       "17    0.247937\n",
       "18    0.212845\n",
       "19    0.233607\n",
       "20    0.300000\n",
       "21    0.333333\n",
       "Name: No-show, dtype: float64"
      ]
     },
     "execution_count": 14,
     "metadata": {},
     "output_type": "execute_result"
    }
   ],
   "source": [
    "df.groupby('ScheduledDay_hour')[\"No-show\"].sum()/df.groupby(\"ScheduledDay_hour\")[\"No-show\"].count()"
   ]
  },
  {
   "cell_type": "code",
   "execution_count": 15,
   "id": "b7a6371c",
   "metadata": {},
   "outputs": [
    {
     "data": {
      "text/plain": [
       "AppointmentDay_day\n",
       "1     0.182226\n",
       "2     0.191421\n",
       "3     0.195968\n",
       "4     0.233598\n",
       "5     0.189024\n",
       "6     0.194928\n",
       "7     0.184874\n",
       "8     0.172853\n",
       "9     0.225105\n",
       "10    0.230179\n",
       "11    0.197760\n",
       "12    0.190617\n",
       "13    0.227056\n",
       "14    0.230769\n",
       "16    0.227312\n",
       "17    0.213712\n",
       "18    0.203207\n",
       "19    0.209155\n",
       "20    0.234632\n",
       "24    0.201899\n",
       "25    0.193854\n",
       "29    0.196157\n",
       "30    0.196805\n",
       "31    0.178881\n",
       "Name: No-show, dtype: float64"
      ]
     },
     "execution_count": 15,
     "metadata": {},
     "output_type": "execute_result"
    }
   ],
   "source": [
    "df.groupby('AppointmentDay_day')[\"No-show\"].sum()/df.groupby(\"AppointmentDay_day\")[\"No-show\"].count()"
   ]
  },
  {
   "cell_type": "code",
   "execution_count": 16,
   "id": "ff93e182",
   "metadata": {},
   "outputs": [
    {
     "data": {
      "text/plain": [
       "Disability\n",
       "0    0.202355\n",
       "1    0.179236\n",
       "Name: No-show, dtype: float64"
      ]
     },
     "execution_count": 16,
     "metadata": {},
     "output_type": "execute_result"
    }
   ],
   "source": [
    "df.groupby('Disability')[\"No-show\"].sum()/df.groupby(\"Disability\")[\"No-show\"].count()"
   ]
  },
  {
   "cell_type": "markdown",
   "id": "5ca27d6a",
   "metadata": {},
   "source": [
    "### Dig into SMS Recieved"
   ]
  },
  {
   "cell_type": "code",
   "execution_count": 34,
   "id": "da5de80e",
   "metadata": {},
   "outputs": [
    {
     "data": {
      "text/plain": [
       "SMS_received\n",
       "0    0.166947\n",
       "1    0.275857\n",
       "Name: No-show, dtype: float64"
      ]
     },
     "execution_count": 34,
     "metadata": {},
     "output_type": "execute_result"
    },
    {
     "data": {
      "image/png": "[encoded data removed]",
      "text/plain": [
       "<Figure size 432x288 with 1 Axes>"
      ]
     },
     "metadata": {
      "needs_background": "light"
     },
     "output_type": "display_data"
    }
   ],
   "source": [
    "sms_received = df.groupby('SMS_received')[\"No-show\"].sum()/df.groupby(\"SMS_received\")[\"No-show\"].count()\n",
    "sms_received.plot.bar(x='Recieved', y='Percent', color=[\"green\",\"yellow\"],rot=0)\n",
    "plt.title(\"No-show percent by SMS received\")\n",
    "\n",
    "sms_received"
   ]
  },
  {
   "cell_type": "code",
   "execution_count": 36,
   "id": "d8af5ed9",
   "metadata": {},
   "outputs": [
    {
     "data": {
      "text/plain": [
       "SMS_received\n",
       "0    47275\n",
       "1    27080\n",
       "Name: PatientID, dtype: int64"
      ]
     },
     "execution_count": 36,
     "metadata": {},
     "output_type": "execute_result"
    }
   ],
   "source": [
    "df.groupby(['SMS_received')"
   ]
  },
  {
   "cell_type": "code",
   "execution_count": 40,
   "id": "5d35805d",
   "metadata": {},
   "outputs": [
    {
     "data": {
      "text/plain": [
       "SMS_received\n",
       "0    12503\n",
       "1     9775\n",
       "Name: No-show, dtype: int64"
      ]
     },
     "execution_count": 40,
     "metadata": {},
     "output_type": "execute_result"
    }
   ],
   "source": [
    "df.groupby(['SMS_received'])['No-show'].sum()"
   ]
  },
  {
   "cell_type": "code",
   "execution_count": 41,
   "id": "9036d66d",
   "metadata": {},
   "outputs": [
    {
     "data": {
      "text/plain": [
       "SMS_received\n",
       "0    74892\n",
       "1    35435\n",
       "Name: No-show, dtype: int64"
      ]
     },
     "execution_count": 41,
     "metadata": {},
     "output_type": "execute_result"
    }
   ],
   "source": [
    "df.groupby(['SMS_received'])['No-show'].count()"
   ]
  },
  {
   "cell_type": "code",
   "execution_count": 59,
   "id": "08eae3a0",
   "metadata": {},
   "outputs": [
    {
     "data": {
      "text/plain": [
       "SMS_received\n",
       "0     6.540839\n",
       "1    19.545052\n",
       "Name: days_diff, dtype: float64"
      ]
     },
     "execution_count": 59,
     "metadata": {},
     "output_type": "execute_result"
    }
   ],
   "source": [
    "df.groupby('SMS_received')['days_diff'].mean()"
   ]
  },
  {
   "cell_type": "code",
   "execution_count": 158,
   "id": "0e028aa6",
   "metadata": {},
   "outputs": [],
   "source": [
    "bins = [0,1,2,3,3.2,4,5,10,15,25,40]\n",
    "\n",
    "days_diff_sms_recieved = df.groupby([pd.cut(df.days_diff, bins),'SMS_received'],as_index=False)['No-show'].agg(['sum','mean','count'])\n",
    "#df.groupby([pd.cut(df.days_diff, bins),'SMS_received'],)['No-show'].agg({'Total No-show':'sum','No-show Rate':'mean','Total Appointments':'count'})\n"
   ]
  },
  {
   "cell_type": "code",
   "execution_count": 163,
   "id": "7c9ffd27",
   "metadata": {},
   "outputs": [],
   "source": [
    "days_diff_sms_recieved.columns=['Total No-show','No-show Rate','Total Appointments']"
   ]
  },
  {
   "cell_type": "markdown",
   "id": "e2038899",
   "metadata": {},
   "source": [
    "### ISSUE here is that text messages not recieved until three days after appointment is booked."
   ]
  },
  {
   "cell_type": "code",
   "execution_count": 164,
   "id": "fe20694f",
   "metadata": {},
   "outputs": [
    {
     "data": {
      "text/html": [
       "<div>\n",
       "<style scoped>\n",
       "    .dataframe tbody tr th:only-of-type {\n",
       "        vertical-align: middle;\n",
       "    }\n",
       "\n",
       "    .dataframe tbody tr th {\n",
       "        vertical-align: top;\n",
       "    }\n",
       "\n",
       "    .dataframe thead th {\n",
       "        text-align: right;\n",
       "    }\n",
       "</style>\n",
       "<table border=\"1\" class=\"dataframe\">\n",
       "  <thead>\n",
       "    <tr style=\"text-align: right;\">\n",
       "      <th></th>\n",
       "      <th></th>\n",
       "      <th>Total No-show</th>\n",
       "      <th>No-show Rate</th>\n",
       "      <th>Total Appointments</th>\n",
       "    </tr>\n",
       "    <tr>\n",
       "      <th>days_diff</th>\n",
       "      <th>SMS_received</th>\n",
       "      <th></th>\n",
       "      <th></th>\n",
       "      <th></th>\n",
       "    </tr>\n",
       "  </thead>\n",
       "  <tbody>\n",
       "    <tr>\n",
       "      <th rowspan=\"2\" valign=\"top\">(0.0, 1.0]</th>\n",
       "      <th>0</th>\n",
       "      <td>1788</td>\n",
       "      <td>0.046460</td>\n",
       "      <td>38485</td>\n",
       "    </tr>\n",
       "    <tr>\n",
       "      <th>1</th>\n",
       "      <td>0</td>\n",
       "      <td>NaN</td>\n",
       "      <td>0</td>\n",
       "    </tr>\n",
       "    <tr>\n",
       "      <th rowspan=\"2\" valign=\"top\">(1.0, 2.0]</th>\n",
       "      <th>0</th>\n",
       "      <td>1110</td>\n",
       "      <td>0.213297</td>\n",
       "      <td>5204</td>\n",
       "    </tr>\n",
       "    <tr>\n",
       "      <th>1</th>\n",
       "      <td>0</td>\n",
       "      <td>NaN</td>\n",
       "      <td>0</td>\n",
       "    </tr>\n",
       "    <tr>\n",
       "      <th rowspan=\"2\" valign=\"top\">(2.0, 3.0]</th>\n",
       "      <th>0</th>\n",
       "      <td>1597</td>\n",
       "      <td>0.237932</td>\n",
       "      <td>6712</td>\n",
       "    </tr>\n",
       "    <tr>\n",
       "      <th>1</th>\n",
       "      <td>0</td>\n",
       "      <td>NaN</td>\n",
       "      <td>0</td>\n",
       "    </tr>\n",
       "    <tr>\n",
       "      <th rowspan=\"2\" valign=\"top\">(3.0, 3.2]</th>\n",
       "      <th>0</th>\n",
       "      <td>7</td>\n",
       "      <td>0.250000</td>\n",
       "      <td>28</td>\n",
       "    </tr>\n",
       "    <tr>\n",
       "      <th>1</th>\n",
       "      <td>0</td>\n",
       "      <td>NaN</td>\n",
       "      <td>0</td>\n",
       "    </tr>\n",
       "    <tr>\n",
       "      <th rowspan=\"2\" valign=\"top\">(3.2, 4.0]</th>\n",
       "      <th>0</th>\n",
       "      <td>444</td>\n",
       "      <td>0.246667</td>\n",
       "      <td>1800</td>\n",
       "    </tr>\n",
       "    <tr>\n",
       "      <th>1</th>\n",
       "      <td>193</td>\n",
       "      <td>0.213969</td>\n",
       "      <td>902</td>\n",
       "    </tr>\n",
       "    <tr>\n",
       "      <th rowspan=\"2\" valign=\"top\">(4.0, 5.0]</th>\n",
       "      <th>0</th>\n",
       "      <td>543</td>\n",
       "      <td>0.243389</td>\n",
       "      <td>2231</td>\n",
       "    </tr>\n",
       "    <tr>\n",
       "      <th>1</th>\n",
       "      <td>686</td>\n",
       "      <td>0.225066</td>\n",
       "      <td>3048</td>\n",
       "    </tr>\n",
       "    <tr>\n",
       "      <th rowspan=\"2\" valign=\"top\">(5.0, 10.0]</th>\n",
       "      <th>0</th>\n",
       "      <td>1751</td>\n",
       "      <td>0.286111</td>\n",
       "      <td>6120</td>\n",
       "    </tr>\n",
       "    <tr>\n",
       "      <th>1</th>\n",
       "      <td>2534</td>\n",
       "      <td>0.253122</td>\n",
       "      <td>10011</td>\n",
       "    </tr>\n",
       "    <tr>\n",
       "      <th rowspan=\"2\" valign=\"top\">(10.0, 15.0]</th>\n",
       "      <th>0</th>\n",
       "      <td>1255</td>\n",
       "      <td>0.357143</td>\n",
       "      <td>3514</td>\n",
       "    </tr>\n",
       "    <tr>\n",
       "      <th>1</th>\n",
       "      <td>1297</td>\n",
       "      <td>0.284367</td>\n",
       "      <td>4561</td>\n",
       "    </tr>\n",
       "    <tr>\n",
       "      <th rowspan=\"2\" valign=\"top\">(15.0, 25.0]</th>\n",
       "      <th>0</th>\n",
       "      <td>1768</td>\n",
       "      <td>0.371273</td>\n",
       "      <td>4762</td>\n",
       "    </tr>\n",
       "    <tr>\n",
       "      <th>1</th>\n",
       "      <td>1998</td>\n",
       "      <td>0.297853</td>\n",
       "      <td>6708</td>\n",
       "    </tr>\n",
       "    <tr>\n",
       "      <th rowspan=\"2\" valign=\"top\">(25.0, 40.0]</th>\n",
       "      <th>0</th>\n",
       "      <td>1523</td>\n",
       "      <td>0.372281</td>\n",
       "      <td>4091</td>\n",
       "    </tr>\n",
       "    <tr>\n",
       "      <th>1</th>\n",
       "      <td>2048</td>\n",
       "      <td>0.304853</td>\n",
       "      <td>6718</td>\n",
       "    </tr>\n",
       "  </tbody>\n",
       "</table>\n",
       "</div>"
      ],
      "text/plain": [
       "                           Total No-show  No-show Rate  Total Appointments\n",
       "days_diff    SMS_received                                                 \n",
       "(0.0, 1.0]   0                      1788      0.046460               38485\n",
       "             1                         0           NaN                   0\n",
       "(1.0, 2.0]   0                      1110      0.213297                5204\n",
       "             1                         0           NaN                   0\n",
       "(2.0, 3.0]   0                      1597      0.237932                6712\n",
       "             1                         0           NaN                   0\n",
       "(3.0, 3.2]   0                         7      0.250000                  28\n",
       "             1                         0           NaN                   0\n",
       "(3.2, 4.0]   0                       444      0.246667                1800\n",
       "             1                       193      0.213969                 902\n",
       "(4.0, 5.0]   0                       543      0.243389                2231\n",
       "             1                       686      0.225066                3048\n",
       "(5.0, 10.0]  0                      1751      0.286111                6120\n",
       "             1                      2534      0.253122               10011\n",
       "(10.0, 15.0] 0                      1255      0.357143                3514\n",
       "             1                      1297      0.284367                4561\n",
       "(15.0, 25.0] 0                      1768      0.371273                4762\n",
       "             1                      1998      0.297853                6708\n",
       "(25.0, 40.0] 0                      1523      0.372281                4091\n",
       "             1                      2048      0.304853                6718"
      ]
     },
     "execution_count": 164,
     "metadata": {},
     "output_type": "execute_result"
    }
   ],
   "source": [
    "days_diff_SMS_No_show = pd.DataFrame(days_diff_sms_recieved)\n",
    "days_diff_SMS_No_show"
   ]
  },
  {
   "cell_type": "code",
   "execution_count": 167,
   "id": "20e1deb2",
   "metadata": {},
   "outputs": [
    {
     "data": {
      "text/plain": [
       "0.20131968758416374"
      ]
     },
     "execution_count": 167,
     "metadata": {},
     "output_type": "execute_result"
    }
   ],
   "source": [
    "(1788+1100+1597)/df['No-show'].sum()"
   ]
  },
  {
   "cell_type": "code",
   "execution_count": 147,
   "id": "6535c781",
   "metadata": {},
   "outputs": [
    {
     "data": {
      "text/plain": [
       "SMS_received\n",
       "0    0.326928\n",
       "1    0.275857\n",
       "Name: No-show, dtype: float64"
      ]
     },
     "execution_count": 147,
     "metadata": {},
     "output_type": "execute_result"
    }
   ],
   "source": [
    "df.loc[df['days_diff']>3.2,].groupby('SMS_received')[\"No-show\"].sum()/df.loc[df['days_diff']>3.2,].groupby(\"SMS_received\")[\"No-show\"].count()"
   ]
  },
  {
   "cell_type": "code",
   "execution_count": 180,
   "id": "8a0f4fb1",
   "metadata": {},
   "outputs": [
    {
     "data": {
      "text/plain": [
       "Text(0.5, 1.0, 'No-show percent by MedicadeIND')"
      ]
     },
     "execution_count": 180,
     "metadata": {},
     "output_type": "execute_result"
    },
    {
     "data": {
      "image/png": "[encoded data removed]",
      "text/plain": [
       "<Figure size 432x288 with 1 Axes>"
      ]
     },
     "metadata": {
      "needs_background": "light"
     },
     "output_type": "display_data"
    }
   ],
   "source": [
    "medicaidIND = df.groupby('MedicaidIND')[\"No-show\"].sum()/df.groupby('MedicaidIND')[\"No-show\"].count()\n",
    "medicaidIND.plot.bar(x='Recieved', y='Percent', color=[\"green\",\"yellow\"])\n",
    "plt.title(\"No-show percent by MedicadeIND\")"
   ]
  },
  {
   "cell_type": "code",
   "execution_count": 181,
   "id": "d56337b2",
   "metadata": {},
   "outputs": [
    {
     "data": {
      "text/plain": [
       "LocationID\n",
       "35    1.000000\n",
       "37    0.262618\n",
       "66    0.274554\n",
       "67    0.265347\n",
       "75    0.289639\n",
       "Name: No-show, dtype: float64"
      ]
     },
     "execution_count": 181,
     "metadata": {},
     "output_type": "execute_result"
    }
   ],
   "source": [
    "locationID_noshow = df.groupby('LocationID')[\"No-show\"].sum()/df.groupby(\"LocationID\")[\"No-show\"].count()\n",
    "locationID_noshow[locationID_noshow>0.25]"
   ]
  },
  {
   "cell_type": "code",
   "execution_count": 182,
   "id": "9edefe7c",
   "metadata": {},
   "outputs": [
    {
     "data": {
      "text/plain": [
       "Diabetes\n",
       "0    0.203618\n",
       "1    0.180000\n",
       "Name: No-show, dtype: float64"
      ]
     },
     "execution_count": 182,
     "metadata": {},
     "output_type": "execute_result"
    }
   ],
   "source": [
    "df.groupby('Diabetes')[\"No-show\"].sum()/df.groupby('Diabetes')[\"No-show\"].count()"
   ]
  },
  {
   "cell_type": "markdown",
   "id": "601e36c1",
   "metadata": {},
   "source": [
    "### -  Target variable is unbalanced. We will use the random over sampler."
   ]
  },
  {
   "cell_type": "code",
   "execution_count": 183,
   "id": "0baa5eb4",
   "metadata": {},
   "outputs": [
    {
     "name": "stdout",
     "output_type": "stream",
     "text": [
      "Upsampling training...\n"
     ]
    }
   ],
   "source": [
    "#remove appointment ID, ScheduledDay, and AppointmentDay \n",
    "df = pd.get_dummies(df, columns=['Gender'],drop_first=True)\n",
    "df = df.drop(['ScheduledDay','AppointmentDay','AppointmentID'],axis=1)\n",
    "\n",
    "#first train-test split to seperate the test set that I am going to report the model performance on\n",
    "train, test = train_test_split(df, test_size=0.25, random_state=42, stratify=df['No-show'])\n",
    "\n",
    "\n",
    "#upsampling \n",
    "# Note: I made sure there is no data leakage during this process\n",
    "print(\"Upsampling training...\")  \n",
    "ros = RandomOverSampler(sampling_strategy='auto')\n",
    "X_train, y_train = ros.fit_resample(train.drop(['No-show'],axis=1), train['No-show'])\n",
    "X_test = test.copy(deep=True).drop(['No-show'], axis=1)\n",
    "y_test = test['No-show']\n",
    "assert X_test.shape[0] == y_test.shape[0], \"wrong shapes for test set\"\n",
    "assert X_train.shape[0] == y_train.shape[0], \"wrong shapes for training set\""
   ]
  },
  {
   "cell_type": "code",
   "execution_count": 184,
   "id": "a770d3fa",
   "metadata": {},
   "outputs": [
    {
     "name": "stdout",
     "output_type": "stream",
     "text": [
      "y_train shape\n",
      "0    66037\n",
      "1    66037\n",
      "Name: No-show, dtype: int64\n",
      "y_test shape\n",
      "0    22012\n",
      "1     5570\n",
      "Name: No-show, dtype: int64\n"
     ]
    }
   ],
   "source": [
    "print(\"y_train shape\")\n",
    "print(y_train.value_counts())\n",
    "print(\"y_test shape\")\n",
    "print(y_test.value_counts())"
   ]
  },
  {
   "cell_type": "code",
   "execution_count": 185,
   "id": "16ae43fd",
   "metadata": {},
   "outputs": [],
   "source": [
    "X_train.to_csv(\"X_train.csv\",index=False)\n",
    "y_train.to_csv(\"y_train_.csv\",index=False)\n",
    "X_test.to_csv(\"X_test.csv\",index=False)\n",
    "y_test.to_csv(\"y_test.csv\",index=False)"
   ]
  },
  {
   "cell_type": "code",
   "execution_count": null,
   "id": "3be34cad",
   "metadata": {},
   "outputs": [],
   "source": []
  }
 ],
 "metadata": {
  "kernelspec": {
   "display_name": "Python 3 (ipykernel)",
   "language": "python",
   "name": "python3"
  },
  "language_info": {
   "codemirror_mode": {
    "name": "ipython",
    "version": 3
   },
   "file_extension": ".py",
   "mimetype": "text/x-python",
   "name": "python",
   "nbconvert_exporter": "python",
   "pygments_lexer": "ipython3",
   "version": "3.7.11"
  }
 },
 "nbformat": 4,
 "nbformat_minor": 5
}
